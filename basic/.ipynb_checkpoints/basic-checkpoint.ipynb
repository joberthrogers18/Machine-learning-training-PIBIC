{
 "cells": [
  {
   "cell_type": "code",
   "execution_count": 11,
   "metadata": {},
   "outputs": [
    {
     "name": "stdout",
     "output_type": "stream",
     "text": [
      "{'Peter': 4, 'Piper': 4, 'picked': 4, 'a': 2, 'peck': 4, 'of': 4, 'pickled': 4, 'peppers': 4, 'A': 1, 'If': 1, 'Wheres': 1, 'the': 1}\n"
     ]
    }
   ],
   "source": [
    "sentence = \"Peter Piper picked a peck of pickled peppers A peck of pickled \\\n",
    "peppers Peter Piper picked If Peter Piper picked a peck of pickled \\\n",
    "peppers Wheres the peck of pickled peppers Peter Piper picked\"\n",
    "\n",
    "word_dict = {}\n",
    "\n",
    "for word in sentence.split():\n",
    "    if word not in word_dict:\n",
    "        word_dict[word] = 1\n",
    "    else:\n",
    "        word_dict[word] += 1\n",
    "        \n",
    "print(word_dict)"
   ]
  },
  {
   "cell_type": "code",
   "execution_count": 17,
   "metadata": {},
   "outputs": [
    {
     "name": "stdout",
     "output_type": "stream",
     "text": [
      "{'Peter': 4, 'Piper': 4, 'picked': 4, 'a': 2, 'peck': 4, 'of': 4, 'pickled': 4, 'peppers': 4, 'A': 1, 'If': 1, 'Wheres': 1, 'the': 1}\n"
     ]
    }
   ],
   "source": [
    "#slicing the words inside the string\n",
    "\n",
    "wordDict2 = {}\n",
    "\n",
    "for word in sentence.split():\n",
    "    wordDict2.setdefault(word, 0)\n",
    "    wordDict2[word] += 1\n",
    "    \n",
    "print(wordDict2)"
   ]
  },
  {
   "cell_type": "code",
   "execution_count": 22,
   "metadata": {},
   "outputs": [
    {
     "name": "stdout",
     "output_type": "stream",
     "text": [
      "People interviewed Alice\n",
      "Avaliation in movie1 was 2\n",
      "Avaliation in movie2 was 5\n",
      "Avaliation in movie3 was 4\n",
      "\n",
      "People interviewed Marco\n",
      "Avaliation in movie1 was 3\n",
      "Avaliation in movie2 was 8\n",
      "Avaliation in movie3 was 1\n",
      "\n"
     ]
    }
   ],
   "source": [
    "# Dictionaries with dictionaries\n",
    "\n",
    "from collections import defaultdict\n",
    "\n",
    "test_dict = defaultdict(lambda: defaultdict(int))\n",
    "\n",
    "test_dict['Alice']['movie1'] = 2\n",
    "test_dict['Alice']['movie2'] = 5\n",
    "test_dict['Alice']['movie3'] = 4\n",
    "test_dict['Marco']['movie1'] = 3\n",
    "test_dict['Marco']['movie2'] = 8\n",
    "test_dict['Marco']['movie3'] = 1\n",
    "\n",
    "for p_name, p_info in test_dict.items():\n",
    "    print(\"People interviewed \"+p_name)\n",
    "    for avaliations_name, avaliation_rate in p_info.items():\n",
    "        print('Avaliation in ' + avaliations_name + ' was ' + str(avaliation_rate))\n",
    "    print()"
   ]
  },
  {
   "cell_type": "code",
   "execution_count": 60,
   "metadata": {},
   "outputs": [
    {
     "name": "stdout",
     "output_type": "stream",
     "text": [
      "1\n",
      "b\n",
      "[100, 200, 300]\n",
      "(1, 2, 'a', 1, 2, 'b')\n",
      "(2, 3, 4, 5, 6, 7, 8, 9, 10)\n",
      "(2, 3)\n",
      "(2, 4, 6)\n",
      "(1, 2, 3, 4, 5, 6, 7, 8, 9)\n",
      "(10, 8, 6, 4, 2)\n",
      "1 10\n",
      "Element 3 is avaiable in tuple a\n"
     ]
    }
   ],
   "source": [
    "#Tuples\n",
    "\n",
    "a_tuple = (1 , 2, 'a')\n",
    "b_tuple = 1,2, 'b'\n",
    "\n",
    "print(a_tuple[0])\n",
    "print(b_tuple[-1])\n",
    "\n",
    "# a_tuple[0] = 1 occur an error because the tuple is immutable\n",
    "\n",
    "c_tuple = ('teste', 1 , [10, 200, 300])\n",
    "\n",
    "#object inside the tuple are mutables\n",
    "c_tuple[2][0] = 100\n",
    "\n",
    "print(c_tuple[2])\n",
    "\n",
    "#concatenate tuples are allow\n",
    "print(a_tuple + b_tuple)\n",
    "\n",
    "#slice\n",
    "a = (1,2,3,4,5,6,7,8,9,10)\n",
    "\n",
    "print(a[1:])\n",
    "print(a[1:3])\n",
    "print(a[1:6:2])\n",
    "print(a[:-1])\n",
    "print(a[::-2]) #reverse tuple showing of 2 in 2 steps\n",
    "\n",
    "#min and max in tuple\n",
    "print(min(a), max(a))\n",
    "\n",
    "#in and not in tuple\n",
    "\n",
    "if 3 in a:\n",
    "    print('Element 3 is avaiable in tuple a')\n",
    "else:\n",
    "    print('There is no element 3 in tuple')"
   ]
  },
  {
   "cell_type": "code",
   "execution_count": 62,
   "metadata": {},
   "outputs": [
    {
     "name": "stdout",
     "output_type": "stream",
     "text": [
      "Manhatan distance between vectors = 1\n"
     ]
    }
   ],
   "source": [
    "#namedtuple\n",
    "\n",
    "from collections import namedtuple\n",
    "\n",
    "vector = namedtuple(\"Dimension\", 'x y z')\n",
    "vec_1 = vector(1, 1, 1)\n",
    "vec_2 = vector(1, 0, 1)\n",
    "\n",
    "manhattan_distance = abs(vec_1.x - vec_2.x) + abs(vec_1.y - vec_2.y)  + abs(vec_1.z - vec_2.z)\n",
    "\n",
    "print(\"Manhatan distance between vectors = %d\"%(manhattan_distance))"
   ]
  },
  {
   "cell_type": "code",
   "execution_count": 2,
   "metadata": {},
   "outputs": [
    {
     "name": "stdout",
     "output_type": "stream",
     "text": [
      "No words in sent_1 = 3\n",
      "Sentence 1 words = {'chase', 'cats', 'dogs'}\n",
      "No words in sent_2 = 3\n",
      "Sentence 2 words = {'cats', 'hate', 'dogs'}\n",
      "No words in common = 2\n",
      "Common words = {'cats', 'dogs'}\n",
      "Total unique words = 4\n",
      "Unique words= {'chase', 'dogs', 'cats', 'hate'}\n",
      "Similarity = No words in common/No unique words, 2/4 = 0.50\n"
     ]
    }
   ],
   "source": [
    "#using set and Jaccard's coeficient to find similarity between two sentences\n",
    "#set is the same as list but there is no repeat word inside it\n",
    "\n",
    "sent_1 = 'dogs chase cats'\n",
    "sent_2 = 'dogs hate cats'\n",
    "\n",
    "#set of words from string\n",
    "\n",
    "st_1_wrds = set(sent_1.split())\n",
    "st_2_wrds = set(sent_2.split())\n",
    "\n",
    "#find the number of words in each set, vocabulary size\n",
    "\n",
    "no_wrds_set_1 = len(st_1_wrds)\n",
    "no_wrds_set_2 = len(st_2_wrds)\n",
    "\n",
    "#find the words similarity common between two sets and count of unique word\n",
    "common_words = st_1_wrds.intersection(st_2_wrds)\n",
    "no_common_words = len(common_words)\n",
    "\n",
    "#Get a list of unique words and the number of that list\n",
    "unq_wrds = st_1_wrds.union(st_2_wrds) # catch all the words unique between two sets\n",
    "no_unq_wrds = len(unq_wrds)\n",
    "\n",
    "#Calculate the Jaccard coeficient\n",
    "\n",
    "similarity = no_common_words / (1.0 * no_unq_wrds)\n",
    "\n",
    "print(\"No words in sent_1 = %d\"%(no_wrds_set_1))\n",
    "print(\"Sentence 1 words =\", st_1_wrds)\n",
    "print(\"No words in sent_2 = %d\"%(no_wrds_set_2))\n",
    "print(\"Sentence 2 words =\", st_2_wrds)\n",
    "print(\"No words in common = %d\"%(no_common_words))\n",
    "print(\"Common words =\", common_words)\n",
    "print(\"Total unique words = %d\"%(no_unq_wrds))\n",
    "print(\"Unique words=\",unq_wrds)\n",
    "print(\"Similarity = No words in common/No unique words, %d/%d = %.2f\"%(no_common_words,no_unq_wrds,similarity))"
   ]
  },
  {
   "cell_type": "code",
   "execution_count": 14,
   "metadata": {},
   "outputs": [
    {
     "name": "stdout",
     "output_type": "stream",
     "text": [
      "<class 'tuple'>\n",
      "(1, 2, 1)\n",
      "<class 'set'>\n",
      "{1, 2}\n",
      "<class 'list'>\n",
      "[1, 2, 1]\n",
      "<class 'set'>\n",
      "{1, 2}\n"
     ]
    }
   ],
   "source": [
    "#the set take the list and tuple and remove the repeated elements\n",
    "\n",
    "tuple_test = (1,2,1)\n",
    "print(type(tuple_test))\n",
    "\n",
    "print(tuple_test)\n",
    "\n",
    "set_tuple = set(tuple_test)\n",
    "print(type(set_tuple))\n",
    "\n",
    "print(set_tuple)\n",
    "\n",
    "list_test = [1,2,1]\n",
    "print(type(list_test))\n",
    "\n",
    "print(list_test)\n",
    "\n",
    "set_list = set(list_test)\n",
    "print(type(set_list))\n",
    "\n",
    "print(set_list)"
   ]
  },
  {
   "cell_type": "code",
   "execution_count": 38,
   "metadata": {},
   "outputs": [
    {
     "name": "stdout",
     "output_type": "stream",
     "text": [
      "{'chase', 'cats', 'dogs'}\n",
      "{'chase', 'dogs', 'cats', 'hate'}\n",
      "[1, 1, 1, 0]\n",
      "[0, 1, 1, 1]\n",
      "the coeficient was 0.50\n",
      "The porcentagem of the similarity was 50%!\n"
     ]
    }
   ],
   "source": [
    "#using a libary to calculate coeficiente from jaccard\n",
    "\n",
    "from sklearn.metrics import jaccard_similarity_score\n",
    "\n",
    "sentence_1 = 'dogs chase cats'\n",
    "sentence_2 = 'dogs hate cats'\n",
    "\n",
    "#word split in set\n",
    "\n",
    "sentence_1_words = set(sentence_1.split())\n",
    "sentence_2_words = set(sentence_2.split())\n",
    "\n",
    "print(sentence_1_words)\n",
    "\n",
    "unique_words = sentence_1_words.union(sentence_2_words)\n",
    "print(unique_words)\n",
    "\n",
    "a = [1 if word in sentence_1_words else 0 for word in unique_words]\n",
    "b = [1 if word in sentence_2_words else 0 for word in unique_words]\n",
    "\n",
    "print(a)\n",
    "print(b)\n",
    "coeficient = jaccard_similarity_score(a,b)\n",
    "\n",
    "print('the coeficient was %.2f' %(coeficient))\n",
    "print('The porcentagem of the similarity was %.0f%%!'%(coeficient*100))"
   ]
  },
  {
   "cell_type": "code",
   "execution_count": 67,
   "metadata": {},
   "outputs": [
    {
     "name": "stdout",
     "output_type": "stream",
     "text": [
      "STACK\n",
      "[1, 2, 3, 4, 5, 6, 7, 8, 9, 10]\n",
      "[1, 2, 3, 4, 5, 6, 7]\n",
      "extend an list with another list\n",
      "[1, 2, 3, 4, 5, 6, 7, 12, 13, 14]\n",
      "\n",
      "\n",
      "\n",
      "QUEUE\n",
      "[1, 3, 5, 7, 9, 11, 13]\n",
      "[3, 5, 7, 9, 11, 13]\n",
      "[5, 7, 9, 11, 13]\n",
      "[7, 9, 11, 13]\n",
      "\n",
      "\n",
      "\n",
      "LIST REVERSE AND SORT\n",
      "1. shuffle\n",
      "[8, 19, 13, 16, 18, 14, 3, 12, 4, 5, 17, 6, 9, 10, 11, 2, 1, 15, 7]\n",
      "2. sort list\n",
      "[1, 2, 3, 4, 5, 6, 7, 8, 9, 10, 11, 12, 13, 14, 15, 16, 17, 18, 19]\n",
      "3. reverse list\n",
      "[19, 18, 17, 16, 15, 14, 13, 12, 11, 10, 9, 8, 7, 6, 5, 4, 3, 2, 1]\n"
     ]
    }
   ],
   "source": [
    "# OPERATION WITH LIST VERY USEFUL\n",
    "\n",
    "#List as a stack in python \n",
    "print('STACK')\n",
    "a = []\n",
    "for i in range(1,11):\n",
    "    a.append(i)\n",
    "print(a)\n",
    "\n",
    "a.pop()\n",
    "a.pop()\n",
    "a.pop()\n",
    "print(a)\n",
    "\n",
    "b = []\n",
    "\n",
    "for i in range(12,15):\n",
    "    b.append(i)\n",
    "\n",
    "print('extend an list with another list')\n",
    "a.extend(b)\n",
    "print(a)\n",
    "\n",
    "print('\\n\\n')\n",
    "\n",
    "#List as queue \n",
    "print('QUEUE')\n",
    "a_queue = []\n",
    "\n",
    "for i in range(1, 15, 2):\n",
    "    a_queue.append(i)\n",
    "\n",
    "print(a_queue)\n",
    "\n",
    "    # .first in first out\n",
    "a_queue.pop(0)\n",
    "print(a_queue)\n",
    "a_queue.pop(0)\n",
    "print(a_queue)\n",
    "a_queue.pop(0)\n",
    "print(a_queue)\n",
    "\n",
    "print('\\n\\n')\n",
    "\n",
    "#List sort and reverser\n",
    "from random import shuffle\n",
    "\n",
    "print('LIST REVERSE AND SORT')\n",
    "\n",
    "list_example = []\n",
    "\n",
    "for i in range(1,20):\n",
    "    list_example.append(i)\n",
    "\n",
    "    #shuffle list\n",
    "print('1. shuffle')\n",
    "shuffle(list_example)\n",
    "print(list_example)\n",
    "\n",
    "    # sort list\n",
    "print('2. sort list')\n",
    "list_example.sort()\n",
    "print(list_example)\n",
    "\n",
    "print('3. reverse list')\n",
    "list_example.reverse()\n",
    "print(list_example)\n",
    "\n"
   ]
  },
  {
   "cell_type": "code",
   "execution_count": 1,
   "metadata": {},
   "outputs": [
    {
     "name": "stdout",
     "output_type": "stream",
     "text": [
      "Using the comprehension with list\n",
      "[1, 4, 9, 16]\n",
      "\n",
      "\n",
      "Using the comprehension with dictionaries\n",
      "{'a': 1, 'b': 4, 'c': 9}\n",
      "Using the comprehension for tuples\n",
      "(1, 4, 1, 4, 'd', 9, 16, 9, 'a')\n"
     ]
    }
   ],
   "source": [
    "#list compreension amd using the other to create for with if\n",
    "print('Using the comprehension with list')\n",
    "a = [1,2,-1, -2, 3,4, -3, -4]\n",
    "\n",
    "# square the number for the each number inside the list a and is < than 0\n",
    "b = [pow(number, 2) for number in a if number < 0]\n",
    "print(b)\n",
    "\n",
    "print('\\n\\nUsing the comprehension with dictionaries')\n",
    "a = {'a': 1, 'b': 2, 'c': 3}\n",
    "\n",
    "b = {x:pow(y,2) for x,y in a.items()}\n",
    "print(b)\n",
    "\n",
    "#using comprehension for tuples\n",
    "print('Using the comprehension for tuples')\n",
    "\n",
    "def process(x):\n",
    "    if isinstance(x, str):\n",
    "        return x.lower()\n",
    "    elif isinstance(x, int):\n",
    "        return x*x\n",
    "    else:\n",
    "        return -9\n",
    "    \n",
    "a = (1,2,-1,-2, 'D', 3,4, -3, 'A')\n",
    "b = tuple(process(x) for x in a)\n",
    "print(b)\n"
   ]
  },
  {
   "cell_type": "code",
   "execution_count": 3,
   "metadata": {},
   "outputs": [
    {
     "name": "stdout",
     "output_type": "stream",
     "text": [
      "1\n",
      "2\n",
      "3\n"
     ]
    },
    {
     "ename": "StopIteration",
     "evalue": "",
     "output_type": "error",
     "traceback": [
      "\u001b[0;31m---------------------------------------------------------------------------\u001b[0m",
      "\u001b[0;31mStopIteration\u001b[0m                             Traceback (most recent call last)",
      "\u001b[0;32m<ipython-input-3-38d7a082d468>\u001b[0m in \u001b[0;36m<module>\u001b[0;34m\u001b[0m\n\u001b[1;32m     23\u001b[0m \u001b[0mprint\u001b[0m\u001b[0;34m(\u001b[0m\u001b[0mc\u001b[0m\u001b[0;34m.\u001b[0m\u001b[0mnext\u001b[0m\u001b[0;34m(\u001b[0m\u001b[0;34m)\u001b[0m\u001b[0;34m)\u001b[0m\u001b[0;34m\u001b[0m\u001b[0;34m\u001b[0m\u001b[0m\n\u001b[1;32m     24\u001b[0m \u001b[0mprint\u001b[0m\u001b[0;34m(\u001b[0m\u001b[0mc\u001b[0m\u001b[0;34m.\u001b[0m\u001b[0mnext\u001b[0m\u001b[0;34m(\u001b[0m\u001b[0;34m)\u001b[0m\u001b[0;34m)\u001b[0m\u001b[0;34m\u001b[0m\u001b[0;34m\u001b[0m\u001b[0m\n\u001b[0;32m---> 25\u001b[0;31m \u001b[0mprint\u001b[0m\u001b[0;34m(\u001b[0m\u001b[0mc\u001b[0m\u001b[0;34m.\u001b[0m\u001b[0mnext\u001b[0m\u001b[0;34m(\u001b[0m\u001b[0;34m)\u001b[0m\u001b[0;34m)\u001b[0m\u001b[0;34m\u001b[0m\u001b[0;34m\u001b[0m\u001b[0m\n\u001b[0m\u001b[1;32m     26\u001b[0m \u001b[0;34m\u001b[0m\u001b[0m\n",
      "\u001b[0;32m<ipython-input-3-38d7a082d468>\u001b[0m in \u001b[0;36mnext\u001b[0;34m(self)\u001b[0m\n\u001b[1;32m     13\u001b[0m         \u001b[0;31m# return the next value till the value is lower than end\u001b[0m\u001b[0;34m\u001b[0m\u001b[0;34m\u001b[0m\u001b[0;34m\u001b[0m\u001b[0m\n\u001b[1;32m     14\u001b[0m         \u001b[0;32mif\u001b[0m \u001b[0mself\u001b[0m\u001b[0;34m.\u001b[0m\u001b[0mcurrent\u001b[0m \u001b[0;34m>\u001b[0m \u001b[0mself\u001b[0m\u001b[0;34m.\u001b[0m\u001b[0mend\u001b[0m\u001b[0;34m:\u001b[0m\u001b[0;34m\u001b[0m\u001b[0;34m\u001b[0m\u001b[0m\n\u001b[0;32m---> 15\u001b[0;31m             \u001b[0;32mraise\u001b[0m \u001b[0mStopIteration\u001b[0m\u001b[0;34m\u001b[0m\u001b[0;34m\u001b[0m\u001b[0m\n\u001b[0m\u001b[1;32m     16\u001b[0m         \u001b[0;32melse\u001b[0m\u001b[0;34m:\u001b[0m\u001b[0;34m\u001b[0m\u001b[0;34m\u001b[0m\u001b[0m\n\u001b[1;32m     17\u001b[0m             \u001b[0mself\u001b[0m\u001b[0;34m.\u001b[0m\u001b[0mcurrent\u001b[0m \u001b[0;34m+=\u001b[0m \u001b[0;36m1\u001b[0m\u001b[0;34m\u001b[0m\u001b[0;34m\u001b[0m\u001b[0m\n",
      "\u001b[0;31mStopIteration\u001b[0m: "
     ]
    }
   ],
   "source": [
    "# Using iterators\n",
    "\n",
    "class SimpleCounter(object): \n",
    "    def __init__(self, start, end):\n",
    "        self.current = start\n",
    "        self.end = end\n",
    "        \n",
    "    def __iter__(self):\n",
    "        #return itsef as an iterator object\n",
    "        return self\n",
    "    \n",
    "    def next (self):\n",
    "        # return the next value till the value is lower than end\n",
    "        if self.current > self.end:\n",
    "            raise StopIteration\n",
    "        else:\n",
    "            self.current += 1\n",
    "            return self.current - 1\n",
    "\n",
    "c = SimpleCounter(1,3)\n",
    "\n",
    "print(c.next())\n",
    "print(c.next())\n",
    "print(c.next())\n",
    "print(c.next())\n",
    "        "
   ]
  }
 ],
 "metadata": {
  "kernelspec": {
   "display_name": "Python 3",
   "language": "python",
   "name": "python3"
  },
  "language_info": {
   "codemirror_mode": {
    "name": "ipython",
    "version": 3
   },
   "file_extension": ".py",
   "mimetype": "text/x-python",
   "name": "python",
   "nbconvert_exporter": "python",
   "pygments_lexer": "ipython3",
   "version": "3.7.1"
  }
 },
 "nbformat": 4,
 "nbformat_minor": 2
}
