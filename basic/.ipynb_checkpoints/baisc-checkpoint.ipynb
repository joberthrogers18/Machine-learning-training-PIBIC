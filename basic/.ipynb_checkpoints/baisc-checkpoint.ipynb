{
 "cells": [
  {
   "cell_type": "code",
   "execution_count": 11,
   "metadata": {},
   "outputs": [
    {
     "name": "stdout",
     "output_type": "stream",
     "text": [
      "{'Peter': 4, 'Piper': 4, 'picked': 4, 'a': 2, 'peck': 4, 'of': 4, 'pickled': 4, 'peppers': 4, 'A': 1, 'If': 1, 'Wheres': 1, 'the': 1}\n"
     ]
    }
   ],
   "source": [
    "sentence = \"Peter Piper picked a peck of pickled peppers A peck of pickled \\\n",
    "peppers Peter Piper picked If Peter Piper picked a peck of pickled \\\n",
    "peppers Wheres the peck of pickled peppers Peter Piper picked\"\n",
    "\n",
    "word_dict = {}\n",
    "\n",
    "for word in sentence.split():\n",
    "    if word not in word_dict:\n",
    "        word_dict[word] = 1\n",
    "    else:\n",
    "        word_dict[word] += 1\n",
    "        \n",
    "print(word_dict)"
   ]
  },
  {
   "cell_type": "code",
   "execution_count": 17,
   "metadata": {},
   "outputs": [
    {
     "name": "stdout",
     "output_type": "stream",
     "text": [
      "{'Peter': 4, 'Piper': 4, 'picked': 4, 'a': 2, 'peck': 4, 'of': 4, 'pickled': 4, 'peppers': 4, 'A': 1, 'If': 1, 'Wheres': 1, 'the': 1}\n"
     ]
    }
   ],
   "source": [
    "#slicing the words inside the string\n",
    "\n",
    "wordDict2 = {}\n",
    "\n",
    "for word in sentence.split():\n",
    "    wordDict2.setdefault(word, 0)\n",
    "    wordDict2[word] += 1\n",
    "    \n",
    "print(wordDict2)"
   ]
  },
  {
   "cell_type": "code",
   "execution_count": 22,
   "metadata": {},
   "outputs": [
    {
     "name": "stdout",
     "output_type": "stream",
     "text": [
      "People interviewed Alice\n",
      "Avaliation in movie1 was 2\n",
      "Avaliation in movie2 was 5\n",
      "Avaliation in movie3 was 4\n",
      "\n",
      "People interviewed Marco\n",
      "Avaliation in movie1 was 3\n",
      "Avaliation in movie2 was 8\n",
      "Avaliation in movie3 was 1\n",
      "\n"
     ]
    }
   ],
   "source": [
    "# Dictionaries with dictionaries\n",
    "\n",
    "from collections import defaultdict\n",
    "\n",
    "test_dict = defaultdict(lambda: defaultdict(int))\n",
    "\n",
    "test_dict['Alice']['movie1'] = 2\n",
    "test_dict['Alice']['movie2'] = 5\n",
    "test_dict['Alice']['movie3'] = 4\n",
    "test_dict['Marco']['movie1'] = 3\n",
    "test_dict['Marco']['movie2'] = 8\n",
    "test_dict['Marco']['movie3'] = 1\n",
    "\n",
    "for p_name, p_info in test_dict.items():\n",
    "    print(\"People interviewed \"+p_name)\n",
    "    for avaliations_name, avaliation_rate in p_info.items():\n",
    "        print('Avaliation in ' + avaliations_name + ' was ' + str(avaliation_rate))\n",
    "    print()"
   ]
  },
  {
   "cell_type": "code",
   "execution_count": 51,
   "metadata": {},
   "outputs": [
    {
     "name": "stdout",
     "output_type": "stream",
     "text": [
      "1\n",
      "b\n",
      "[100, 200, 300]\n",
      "(1, 2, 'a', 1, 2, 'b')\n",
      "(2, 4, 5, 6, 7, 8, 9, 10)\n",
      "(2, 4)\n",
      "(2, 5, 7)\n",
      "(1, 2, 4, 5, 6, 7, 8, 9)\n",
      "1 10\n",
      "There is no element 3 in tuple\n"
     ]
    }
   ],
   "source": [
    "#Tuples\n",
    "\n",
    "a_tuple = (1 , 2, 'a')\n",
    "b_tuple = 1,2, 'b'\n",
    "\n",
    "print(a_tuple[0])\n",
    "print(b_tuple[-1])\n",
    "\n",
    "# a_tuple[0] = 1 occur an error because the tuple is immutable\n",
    "\n",
    "c_tuple = ('teste', 1 , [10, 200, 300])\n",
    "\n",
    "#object inside the tuple are mutables\n",
    "c_tuple[2][0] = 100\n",
    "\n",
    "print(c_tuple[2])\n",
    "\n",
    "#concatenate tuples are allow\n",
    "print(a_tuple + b_tuple)\n",
    "\n",
    "#slice\n",
    "a = (1,2,3,4,5,6,7,8,9,10)\n",
    "\n",
    "print(a[1:])\n",
    "print(a[1:3])\n",
    "print(a[1:6:2])\n",
    "print(a[:-1])\n",
    "\n",
    "#min and max in tuple\n",
    "print(min(a), max(a))\n",
    "\n",
    "#in and not in tuple\n",
    "\n",
    "if 3 in a:\n",
    "    print('Element 3 is avaiable in tuple a')\n",
    "else:\n",
    "    print('There is no element 3 in tuple')"
   ]
  }
 ],
 "metadata": {
  "kernelspec": {
   "display_name": "Python 3",
   "language": "python",
   "name": "python3"
  },
  "language_info": {
   "codemirror_mode": {
    "name": "ipython",
    "version": 3
   },
   "file_extension": ".py",
   "mimetype": "text/x-python",
   "name": "python",
   "nbconvert_exporter": "python",
   "pygments_lexer": "ipython3",
   "version": "3.7.1"
  }
 },
 "nbformat": 4,
 "nbformat_minor": 2
}
